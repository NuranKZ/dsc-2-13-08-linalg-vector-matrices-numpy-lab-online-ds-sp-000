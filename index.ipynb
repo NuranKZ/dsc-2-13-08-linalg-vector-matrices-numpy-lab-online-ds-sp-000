{
 "cells": [
  {
   "cell_type": "markdown",
   "metadata": {
    "toc": true
   },
   "source": [
    "<h1>Table of Contents<span class=\"tocSkip\"></span></h1>\n",
    "<div class=\"toc\"><ul class=\"toc-item\"><li><span><a href=\"#Introduction\" data-toc-modified-id=\"Introduction-1\"><span class=\"toc-item-num\">1&nbsp;&nbsp;</span>Introduction</a></span></li><li><span><a href=\"#Objectives\" data-toc-modified-id=\"Objectives-2\"><span class=\"toc-item-num\">2&nbsp;&nbsp;</span>Objectives</a></span></li><li><span><a href=\"#1.-Define-two-arrays-A-(4x2)-and-B-(2x3)\" data-toc-modified-id=\"1.-Define-two-arrays-A-(4x2)-and-B-(2x3)-3\"><span class=\"toc-item-num\">3&nbsp;&nbsp;</span>1. Define two arrays A (4x2) and B (2x3)</a></span></li><li><span><a href=\"#2.-Print-the-dimensions-of-A-and-B\" data-toc-modified-id=\"2.-Print-the-dimensions-of-A-and-B-4\"><span class=\"toc-item-num\">4&nbsp;&nbsp;</span>2. Print the dimensions of A and B</a></span></li><li><span><a href=\"#3.-Print-some-of-the-elements-from-A-at-following-locations\" data-toc-modified-id=\"3.-Print-some-of-the-elements-from-A-at-following-locations-5\"><span class=\"toc-item-num\">5&nbsp;&nbsp;</span>3. Print some of the elements from A at following locations</a></span></li><li><span><a href=\"#4.-Write-a-routine-to-populate-matrix-with-random-data\" data-toc-modified-id=\"4.-Write-a-routine-to-populate-matrix-with-random-data-6\"><span class=\"toc-item-num\">6&nbsp;&nbsp;</span>4. Write a routine to populate matrix with random data</a></span></li><li><span><a href=\"#5.-Turn-above-routine-into-a-function.\" data-toc-modified-id=\"5.-Turn-above-routine-into-a-function.-7\"><span class=\"toc-item-num\">7&nbsp;&nbsp;</span>5. Turn above routine into a function.</a></span></li><li><span><a href=\"#Summary\" data-toc-modified-id=\"Summary-8\"><span class=\"toc-item-num\">8&nbsp;&nbsp;</span>Summary</a></span></li></ul></div>"
   ]
  },
  {
   "cell_type": "markdown",
   "metadata": {},
   "source": [
    "# Vectors and Matrices in Numpy - Lab\n",
    "\n",
    "## Introduction\n",
    "\n",
    "This lab will ask you to perform some simple matrix creation and manipulation exercises based on what we have covered so far in this section. The key takeaway here for you is to be able to understand how to using indexing with matrices and vectors while applying some basic operations.\n",
    "\n",
    "## Objectives\n",
    "You will be able to:\n",
    "* Define vectors and matrices in NumPy\n",
    "* Check the shape of vectors and matrices\n",
    "* Access and manipulate individual scalar components of a matrix. "
   ]
  },
  {
   "cell_type": "markdown",
   "metadata": {},
   "source": [
    "## 1. Define two arrays A (4x2) and B (2x3) \n",
    "```\n",
    "A = 1402, 191 \n",
    "    1371, 821 \n",
    "    949, 1437\n",
    "    147, 1448\n",
    "    \n",
    "B = 1, 2, 3\n",
    "    4, 5, 6\n",
    "    ```"
   ]
  },
  {
   "cell_type": "code",
   "execution_count": 1,
   "metadata": {},
   "outputs": [
    {
     "name": "stdout",
     "output_type": "stream",
     "text": [
      "[[1402  191]\n",
      " [1371  821]\n",
      " [ 949 1437]\n",
      " [ 147 1448]]\n",
      "[[1 2 3]\n",
      " [4 5 6]]\n"
     ]
    }
   ],
   "source": [
    "# Code Here\n",
    "import numpy as np\n",
    "A = np.array([[1402, 191],[1371, 821],[949, 1437],[147, 1448]])\n",
    "B = np.array([[1, 2, 3],[4, 5, 6]])\n",
    "print(A)\n",
    "print(B)"
   ]
  },
  {
   "cell_type": "markdown",
   "metadata": {},
   "source": [
    "## 2. Print the dimensions of A and B "
   ]
  },
  {
   "cell_type": "code",
   "execution_count": 2,
   "metadata": {},
   "outputs": [
    {
     "name": "stdout",
     "output_type": "stream",
     "text": [
      "Shape of A: (4, 2)\n",
      "Shape of B: (2, 3)\n"
     ]
    }
   ],
   "source": [
    "# Code Here\n",
    "print(f'Shape of A: {A.shape}')\n",
    "print(f'Shape of B: {B.shape}')"
   ]
  },
  {
   "cell_type": "markdown",
   "metadata": {},
   "source": [
    "## 3. Print some of the elements from A at following locations\n",
    "* first row and first column\n",
    "* first row and second column\n",
    "* third row and second column\n",
    "* fourth row and first column"
   ]
  },
  {
   "cell_type": "code",
   "execution_count": 3,
   "metadata": {},
   "outputs": [
    {
     "name": "stdout",
     "output_type": "stream",
     "text": [
      "1402\n",
      "191\n",
      "1437\n",
      "147\n"
     ]
    }
   ],
   "source": [
    "# Code Here\n",
    "print(A[0,0])\n",
    "print(A[0,1])\n",
    "print(A[2,1])\n",
    "print(A[3,0])"
   ]
  },
  {
   "cell_type": "markdown",
   "metadata": {},
   "source": [
    "## 4. Write a routine to populate matrix with random data\n",
    "* Create an 3x3 numpy array with all zeros (use `np.zeros()`)\n",
    "* Access each location i,j of this matrix and fill in random values between the range 1 and 10. "
   ]
  },
  {
   "cell_type": "code",
   "execution_count": 26,
   "metadata": {},
   "outputs": [
    {
     "name": "stdout",
     "output_type": "stream",
     "text": [
      "3\n"
     ]
    }
   ],
   "source": [
    "# Code Here (due to random data , your output might be different)\n",
    "A = np.zeros((3,3))\n",
    "for i in range(3):\n",
    "    A[i] = np.random.uniform(1,10,3)\n",
    "print(len(A))"
   ]
  },
  {
   "cell_type": "markdown",
   "metadata": {},
   "source": [
    "## 5. Turn above routine into a function.\n",
    "* Create two 4x4 zero valued matrices and fill with random data using the function\n",
    "* Add the matrices together in numpy \n",
    "* Show the results"
   ]
  },
  {
   "cell_type": "code",
   "execution_count": 31,
   "metadata": {},
   "outputs": [
    {
     "name": "stdout",
     "output_type": "stream",
     "text": [
      "[[14.05851342 14.06485789 10.5929967  10.30958518]\n",
      " [ 5.03921275  7.99504835 10.09802592  8.63521325]\n",
      " [15.8112296  14.13658557 12.21217044 11.2438331 ]\n",
      " [11.33602318  9.15242829 15.20296154  9.98065925]]\n"
     ]
    }
   ],
   "source": [
    "# Code Here (due to random data , your output might be different)\n",
    "def fill_random(array, min_val, max_val):\n",
    "    for i in range(len(array)):\n",
    "        array[i] = np.random.uniform(min_val, max_val, len(array))\n",
    "    return array\n",
    "\n",
    "A = np.zeros((4,4))\n",
    "A = fill_random(A, 1, 10)\n",
    "B = np.zeros((4,4))\n",
    "B = fill_random(B, 1, 10)\n",
    "\n",
    "print(A+B)"
   ]
  },
  {
   "cell_type": "markdown",
   "metadata": {},
   "source": [
    "## Summary \n",
    "\n",
    "In this lab, we saw how to create and manipulate vectors and matrices in numpy. We shall now move forward to learning more complex operations including dot products and inverses. "
   ]
  }
 ],
 "metadata": {
  "kernelspec": {
   "display_name": "Python 3",
   "language": "python",
   "name": "python3"
  },
  "language_info": {
   "codemirror_mode": {
    "name": "ipython",
    "version": 3
   },
   "file_extension": ".py",
   "mimetype": "text/x-python",
   "name": "python",
   "nbconvert_exporter": "python",
   "pygments_lexer": "ipython3",
   "version": "3.7.1"
  },
  "toc": {
   "base_numbering": 1,
   "nav_menu": {},
   "number_sections": true,
   "sideBar": true,
   "skip_h1_title": true,
   "title_cell": "Table of Contents",
   "title_sidebar": "Contents",
   "toc_cell": true,
   "toc_position": {},
   "toc_section_display": true,
   "toc_window_display": false
  },
  "varInspector": {
   "cols": {
    "lenName": 16,
    "lenType": 16,
    "lenVar": 40
   },
   "kernels_config": {
    "python": {
     "delete_cmd_postfix": "",
     "delete_cmd_prefix": "del ",
     "library": "var_list.py",
     "varRefreshCmd": "print(var_dic_list())"
    },
    "r": {
     "delete_cmd_postfix": ") ",
     "delete_cmd_prefix": "rm(",
     "library": "var_list.r",
     "varRefreshCmd": "cat(var_dic_list()) "
    }
   },
   "types_to_exclude": [
    "module",
    "function",
    "builtin_function_or_method",
    "instance",
    "_Feature"
   ],
   "window_display": false
  }
 },
 "nbformat": 4,
 "nbformat_minor": 2
}
